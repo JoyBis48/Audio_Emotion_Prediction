{
 "cells": [
  {
   "cell_type": "code",
   "execution_count": null,
   "metadata": {
    "ExecuteTime": {
     "end_time": "2024-06-17T21:12:34.308769600Z",
     "start_time": "2024-06-17T21:12:19.220091800Z"
    },
    "collapsed": false
   },
   "outputs": [],
   "source": [
    "from utils import create_model\n",
    "model = create_model()\n",
    "model.load_weights(\"results/model.h5\")"
   ]
  },
  {
   "cell_type": "code",
   "execution_count": null,
   "metadata": {
    "ExecuteTime": {
     "end_time": "2024-06-17T21:12:42.974257100Z",
     "start_time": "2024-06-17T21:12:41.544774400Z"
    },
    "collapsed": false
   },
   "outputs": [],
   "source": [
    "import os\n",
    "import tensorflow as tf\n",
    "from tqdm import tqdm\n",
    "from concurrent.futures import ThreadPoolExecutor\n",
    "\n",
    "def classify_gender(file_path):\n",
    "    # Extract features and reshape them\n",
    "    features = extract_feature(file_path, mel=True).reshape(1, -1)\n",
    "    # Predict the gender\n",
    "    male_prob = model.predict(features, verbose=0)[0][0]\n",
    "    female_prob = 1 - male_prob\n",
    "    gender = \"male\" if male_prob > female_prob else \"female\"\n",
    "    return gender\n",
    "\n",
    "def process_file(emotion_folder_path, emotion_output_dir, file, progress_bar):\n",
    "    if file.endswith(\".wav\"):\n",
    "        file_path = os.path.join(emotion_folder_path, file)\n",
    "        # Classify gender of the file\n",
    "        classification = classify_gender(file_path)\n",
    "        # Save only if classified as female\n",
    "        if classification == \"female\":\n",
    "            output_file_path = os.path.join(emotion_output_dir, file)\n",
    "            os.replace(file_path, output_file_path)  # Move or copy the file to the output directory\n",
    "        # Update the progress bar\n",
    "        progress_bar.update(1)\n",
    "\n",
    "def process_emotion_folder(emotion_folder, dataset_path, output_dir):\n",
    "    emotion_folder_path = os.path.join(dataset_path, emotion_folder)\n",
    "    if os.path.isdir(emotion_folder_path):\n",
    "        # Creating a sub-directory for the emotion in the filtered dataset\n",
    "        emotion_output_dir = os.path.join(output_dir, emotion_folder)\n",
    "        os.makedirs(emotion_output_dir, exist_ok=True)\n",
    "\n",
    "        # Iterating through each WAV file in the emotion folder\n",
    "        files = [f for f in os.listdir(emotion_folder_path) if f.endswith(\".wav\")]\n",
    "        with tqdm(total=len(files), desc=f'Processing {emotion_folder}') as progress_bar:\n",
    "            with ThreadPoolExecutor() as executor:\n",
    "                futures = [executor.submit(process_file, emotion_folder_path, emotion_output_dir, file, progress_bar) for file in files]\n",
    "                for future in futures:\n",
    "                    future.result()  \n",
    "        progress_bar.update(1)\n",
    "\n",
    "def main(dataset_path, output_dir):\n",
    "    # Creating output directory if it doesn't exist\n",
    "    os.makedirs(output_dir, exist_ok=True)\n",
    "\n",
    "    # Iterating through each emotion folder\n",
    "    emotion_folders = [f for f in os.listdir(dataset_path) if os.path.isdir(os.path.join(dataset_path, f))]\n",
    "    for emotion_folder in emotion_folders:\n",
    "        process_emotion_folder(emotion_folder, dataset_path, output_dir)\n",
    "\n",
    "    print(\"Female voice extraction completed.\")"
   ]
  },
  {
   "cell_type": "code",
   "execution_count": null,
   "metadata": {
    "ExecuteTime": {
     "end_time": "2024-06-17T21:12:44.530703600Z",
     "start_time": "2024-06-17T21:12:44.513470100Z"
    },
    "collapsed": false
   },
   "outputs": [],
   "source": [
    "dataset_path = r'D:\\NullClass_Internship\\Audio_Emotion_Prediction\\Emotions'\n",
    "output_dir = r'D:\\NullClass_Internship\\Audio_Emotion_Prediction\\filtered_dataset'"
   ]
  },
  {
   "cell_type": "code",
   "execution_count": null,
   "metadata": {
    "ExecuteTime": {
     "start_time": "2024-06-17T21:12:45.210676400Z"
    },
    "collapsed": false,
    "is_executing": true
   },
   "outputs": [],
   "source": [
    "main(dataset_path, output_dir)"
   ]
  }
 ],
 "metadata": {
  "kernelspec": {
   "display_name": "Python 3",
   "language": "python",
   "name": "python3"
  },
  "language_info": {
   "codemirror_mode": {
    "name": "ipython",
    "version": 3
   },
   "file_extension": ".py",
   "mimetype": "text/x-python",
   "name": "python",
   "nbconvert_exporter": "python",
   "pygments_lexer": "ipython3",
   "version": "3.10.14"
  }
 },
 "nbformat": 4,
 "nbformat_minor": 0
}
